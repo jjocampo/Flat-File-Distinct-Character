{
 "cells": [
  {
   "cell_type": "markdown",
   "metadata": {},
   "source": [
    "# Flat File Distinct Character\n",
    "\n",
    "### Developing a simple script that iterates over a flat file and returns a list of distinct characters. Optional script to replace certain characters. "
   ]
  },
  {
   "cell_type": "code",
   "execution_count": 2,
   "metadata": {},
   "outputs": [],
   "source": [
    "# get packages\n",
    "from pathlib2 import Path\n",
    "import pandas as pd\n",
    "import shutil"
   ]
  },
  {
   "cell_type": "markdown",
   "metadata": {},
   "source": [
    "#### Iterates through a file and selectively removes unwanted characters"
   ]
  },
  {
   "cell_type": "code",
   "execution_count": 4,
   "metadata": {},
   "outputs": [
    {
     "name": "stdout",
     "output_type": "stream",
     "text": [
      "D:\\Projects\\Python\\Testing\n"
     ]
    }
   ],
   "source": [
    "# get current working directory\n",
    "print(Path.cwd())"
   ]
  },
  {
   "cell_type": "code",
   "execution_count": 5,
   "metadata": {},
   "outputs": [],
   "source": [
    "# define a new path with the special operator method\n",
    "test_file = Path.cwd() / 'Files' / 'Test File 1.txt'"
   ]
  },
  {
   "cell_type": "code",
   "execution_count": 6,
   "metadata": {},
   "outputs": [
    {
     "data": {
      "text/plain": [
       "'If you can keep your head when all about you\\n Are losing theirs and blaming it on you,\\nIf you can trust yourself when all men doubt you,\\n But make allowance for their doubting too.\\nIf you can wait and not be tired by waiting,\\n Or being lied about, don\\'t deal in lies,\\nOr being hated, don\\'t give way to hating,\\n And yet don\\'t look too good, nor talk too wise:\\n\\nIf you can dream—and not make dreams your master;\\n If you can think—and not make thoughts your aim;\\nIf you can meet with Triumph and Disaster,\\n And treat those two impostors just the same;\\nIf you can bear to hear the truth you\\'ve spoken\\n Twisted by knaves to make a trap for fools,\\nOr watch the things you gave your life to, broken,\\n And stoop and build \\'em up with worn-out tools:\\n\\nIf you can make a heap of all your winnings\\n And risk it on one turn of pitch-and-toss,\\nAnd lose, and start again at your beginnings\\n And never breathe a word about your loss;\\nIf you can force your heart and nerve and sinew\\n To serve your turn long after they are gone,\\nAnd so hold on when there is nothing in you\\n Except the Will which says to them: \"Hold on!\"\\n\\nIf you can talk with crowds and keep your virtue,\\n Or walk with Kings—nor lose the common touch,\\nIf neither foes nor loving friends can hurt you,\\n If all men count with you, but none too much;\\nIf you can fill the unforgiving minute\\n With sixty seconds\\' worth of distance run,\\nYours is the Earth and everything that\\'s in it,\\n And—which is more—you\\'ll be a Man, my son!'"
      ]
     },
     "execution_count": 6,
     "metadata": {},
     "output_type": "execute_result"
    }
   ],
   "source": [
    "# show the file \n",
    "file = open(test_file, \"r\")\n",
    "file.read()"
   ]
  },
  {
   "cell_type": "code",
   "execution_count": 7,
   "metadata": {},
   "outputs": [
    {
     "name": "stdout",
     "output_type": "stream",
     "text": [
      "If you can keep your head when all about you\n",
      "\n",
      " Are losing theirs and blaming it on you,\n",
      "\n",
      "If you can trust yourself when all men doubt you,\n",
      "\n",
      " But make allowance for their doubting too.\n",
      "\n",
      "If you can wait and not be tired by waiting,\n",
      "\n",
      " Or being lied about, don't deal in lies,\n",
      "\n",
      "Or being hated, don't give way to hating,\n",
      "\n",
      " And yet don't look too good, nor talk too wise:\n",
      "\n",
      "\n",
      "\n",
      "If you can dream—and not make dreams your master;\n",
      "\n",
      " If you can think—and not make thoughts your aim;\n",
      "\n",
      "If you can meet with Triumph and Disaster,\n",
      "\n",
      " And treat those two impostors just the same;\n",
      "\n",
      "If you can bear to hear the truth you've spoken\n",
      "\n",
      " Twisted by knaves to make a trap for fools,\n",
      "\n",
      "Or watch the things you gave your life to, broken,\n",
      "\n",
      " And stoop and build 'em up with worn-out tools:\n",
      "\n",
      "\n",
      "\n",
      "If you can make a heap of all your winnings\n",
      "\n",
      " And risk it on one turn of pitch-and-toss,\n",
      "\n",
      "And lose, and start again at your beginnings\n",
      "\n",
      " And never breathe a word about your loss;\n",
      "\n",
      "If you can force your heart and nerve and sinew\n",
      "\n",
      " To serve your turn long after they are gone,\n",
      "\n",
      "And so hold on when there is nothing in you\n",
      "\n",
      " Except the Will which says to them: \"Hold on!\"\n",
      "\n",
      "\n",
      "\n",
      "If you can talk with crowds and keep your virtue,\n",
      "\n",
      " Or walk with Kings—nor lose the common touch,\n",
      "\n",
      "If neither foes nor loving friends can hurt you,\n",
      "\n",
      " If all men count with you, but none too much;\n",
      "\n",
      "If you can fill the unforgiving minute\n",
      "\n",
      " With sixty seconds' worth of distance run,\n",
      "\n",
      "Yours is the Earth and everything that's in it,\n",
      "\n",
      " And—which is more—you'll be a Man, my son!\n"
     ]
    }
   ],
   "source": [
    "# loop through printing the file \n",
    "file = open(test_file, \"r\")\n",
    "for line in file: \n",
    "    print(line)"
   ]
  },
  {
   "cell_type": "code",
   "execution_count": 8,
   "metadata": {},
   "outputs": [
    {
     "name": "stdout",
     "output_type": "stream",
     "text": [
      "If you can keep your head when all about you\n",
      " Are losing theirs and blaming it on you,\n",
      "If you can trust yourself when all men doubt you,\n",
      " But make allowance for their doubting too.\n",
      "If you can wait and not be tired by waiting,\n",
      " Or being lied about, don't deal in lies,\n",
      "Or being hated, don't give way to hating,\n",
      " And yet don't look too good, nor talk too wise:\n",
      "\n",
      "If you can dream—and not make dreams your master;\n",
      " If you can think—and not make thoughts your aim;\n",
      "If you can meet with Triumph and Disaster,\n",
      " And treat those two impostors just the same;\n",
      "If you can bear to hear the truth you've spoken\n",
      " Twisted by knaves to make a trap for fools,\n",
      "Or watch the things you gave your life to, broken,\n",
      " And stoop and build 'em up with worn-out tools:\n",
      "\n",
      "If you can make a heap of all your winnings\n",
      " And risk it on one turn of pitch-and-toss,\n",
      "And lose, and start again at your beginnings\n",
      " And never breathe a word about your loss;\n",
      "If you can force your heart and nerve and sinew\n",
      " To serve your turn long after they are gone,\n",
      "And so hold on when there is nothing in you\n",
      " Except the Will which says to them: \"Hold on!\"\n",
      "\n",
      "If you can talk with crowds and keep your virtue,\n",
      " Or walk with Kings—nor lose the common touch,\n",
      "If neither foes nor loving friends can hurt you,\n",
      " If all men count with you, but none too much;\n",
      "If you can fill the unforgiving minute\n",
      " With sixty seconds' worth of distance run,\n",
      "Yours is the Earth and everything that's in it,\n",
      " And—which is more—you'll be a Man, my son!\n"
     ]
    }
   ],
   "source": [
    "# loop through printing the file, but replace the new line character that is within the file \n",
    "file = open(test_file, \"r\")\n",
    "for line in file: \n",
    "    print(line.replace(\"\\n\",\"\"))"
   ]
  },
  {
   "cell_type": "code",
   "execution_count": 9,
   "metadata": {},
   "outputs": [
    {
     "data": {
      "text/plain": [
       "['I',\n",
       " 'f',\n",
       " ' ',\n",
       " 'y',\n",
       " 'o',\n",
       " 'u',\n",
       " 'c',\n",
       " 'a',\n",
       " 'n',\n",
       " 'k',\n",
       " 'e',\n",
       " 'p',\n",
       " 'r',\n",
       " 'h',\n",
       " 'd',\n",
       " 'w',\n",
       " 'l',\n",
       " 'b',\n",
       " 't',\n",
       " '\\n',\n",
       " 'A',\n",
       " 's',\n",
       " 'i',\n",
       " 'g',\n",
       " 'm',\n",
       " ',',\n",
       " 'B',\n",
       " '.',\n",
       " 'O',\n",
       " \"'\",\n",
       " 'v',\n",
       " ':',\n",
       " '—',\n",
       " ';',\n",
       " 'T',\n",
       " 'D',\n",
       " 'j',\n",
       " '-',\n",
       " 'E',\n",
       " 'x',\n",
       " 'W',\n",
       " '\"',\n",
       " 'H',\n",
       " '!',\n",
       " 'K',\n",
       " 'Y',\n",
       " 'M']"
      ]
     },
     "execution_count": 9,
     "metadata": {},
     "output_type": "execute_result"
    }
   ],
   "source": [
    "# get a distinct list of characters within a file\n",
    "file = open(test_file, \"r\")\n",
    "character = []\n",
    "for line in file: \n",
    "    for c in line: \n",
    "            if not c in character: \n",
    "                character.append(c)\n",
    "\n",
    "character"
   ]
  },
  {
   "cell_type": "code",
   "execution_count": 18,
   "metadata": {
    "scrolled": true
   },
   "outputs": [
    {
     "name": "stdout",
     "output_type": "stream",
     "text": [
      "Number of replacements: 13\n"
     ]
    }
   ],
   "source": [
    "# replace certain characters and create a new file\n",
    "file = open(test_file,\"r\")\n",
    "\n",
    "char_to_replace = ['If']\n",
    "new_file = Path.cwd() / 'Files' / 'New File 1.txt'\n",
    "bad_rows = Path.cwd() / 'Files' / 'Bad Rows for File 1.txt'\n",
    "count_replacements = 0\n",
    "\n",
    "for line in file: \n",
    "    cleaned = line\n",
    "    for c in char_to_replace: \n",
    "        cleaned = cleaned.replace(c,'*')\n",
    "    if not line == cleaned:\n",
    "        bad = open(bad_rows, \"a\")\n",
    "        bad.write(line)\n",
    "        bad.close()\n",
    "        count_replacements += 1\n",
    "    new = open(new_file,\"a\")\n",
    "    new.write(cleaned)\n",
    "    new.close()\n",
    "\n",
    "    \n",
    "file.close()\n",
    "\n",
    "print('Number of replacements: ' + str(count_replacements))"
   ]
  },
  {
   "cell_type": "code",
   "execution_count": 19,
   "metadata": {},
   "outputs": [
    {
     "name": "stdout",
     "output_type": "stream",
     "text": [
      "If you can keep your head when all about you\n",
      "\n",
      "If you can trust yourself when all men doubt you,\n",
      "\n",
      "If you can wait and not be tired by waiting,\n",
      "\n",
      "If you can dream—and not make dreams your master;\n",
      "\n",
      " If you can think—and not make thoughts your aim;\n",
      "\n",
      "If you can meet with Triumph and Disaster,\n",
      "\n",
      "If you can bear to hear the truth you've spoken\n",
      "\n",
      "If you can make a heap of all your winnings\n",
      "\n",
      "If you can force your heart and nerve and sinew\n",
      "\n",
      "If you can talk with crowds and keep your virtue,\n",
      "\n",
      "If neither foes nor loving friends can hurt you,\n",
      "\n",
      " If all men count with you, but none too much;\n",
      "\n",
      "If you can fill the unforgiving minute\n",
      "\n"
     ]
    }
   ],
   "source": [
    "# Print the rows that were replaced\n",
    "file = open(bad_rows, \"r\")\n",
    "for line in file: \n",
    "    print(line)"
   ]
  },
  {
   "cell_type": "code",
   "execution_count": 20,
   "metadata": {},
   "outputs": [
    {
     "name": "stdout",
     "output_type": "stream",
     "text": [
      "* you can keep your head when all about you\n",
      "\n",
      " Are losing theirs and blaming it on you,\n",
      "\n",
      "* you can trust yourself when all men doubt you,\n",
      "\n",
      " But make allowance for their doubting too.\n",
      "\n",
      "* you can wait and not be tired by waiting,\n",
      "\n",
      " Or being lied about, don't deal in lies,\n",
      "\n",
      "Or being hated, don't give way to hating,\n",
      "\n",
      " And yet don't look too good, nor talk too wise:\n",
      "\n",
      "\n",
      "\n",
      "* you can dream—and not make dreams your master;\n",
      "\n",
      " * you can think—and not make thoughts your aim;\n",
      "\n",
      "* you can meet with Triumph and Disaster,\n",
      "\n",
      " And treat those two impostors just the same;\n",
      "\n",
      "* you can bear to hear the truth you've spoken\n",
      "\n",
      " Twisted by knaves to make a trap for fools,\n",
      "\n",
      "Or watch the things you gave your life to, broken,\n",
      "\n",
      " And stoop and build 'em up with worn-out tools:\n",
      "\n",
      "\n",
      "\n",
      "* you can make a heap of all your winnings\n",
      "\n",
      " And risk it on one turn of pitch-and-toss,\n",
      "\n",
      "And lose, and start again at your beginnings\n",
      "\n",
      " And never breathe a word about your loss;\n",
      "\n",
      "* you can force your heart and nerve and sinew\n",
      "\n",
      " To serve your turn long after they are gone,\n",
      "\n",
      "And so hold on when there is nothing in you\n",
      "\n",
      " Except the Will which says to them: \"Hold on!\"\n",
      "\n",
      "\n",
      "\n",
      "* you can talk with crowds and keep your virtue,\n",
      "\n",
      " Or walk with Kings—nor lose the common touch,\n",
      "\n",
      "* neither foes nor loving friends can hurt you,\n",
      "\n",
      " * all men count with you, but none too much;\n",
      "\n",
      "* you can fill the unforgiving minute\n",
      "\n",
      " With sixty seconds' worth of distance run,\n",
      "\n",
      "Yours is the Earth and everything that's in it,\n",
      "\n",
      " And—which is more—you'll be a Man, my son!\n"
     ]
    }
   ],
   "source": [
    "# Print the new file that was created\n",
    "file = open(new_file, \"r\")\n",
    "for line in file: \n",
    "    print(line)"
   ]
  },
  {
   "cell_type": "code",
   "execution_count": null,
   "metadata": {},
   "outputs": [],
   "source": []
  }
 ],
 "metadata": {
  "kernelspec": {
   "display_name": "Python 3",
   "language": "python",
   "name": "python3"
  },
  "language_info": {
   "codemirror_mode": {
    "name": "ipython",
    "version": 3
   },
   "file_extension": ".py",
   "mimetype": "text/x-python",
   "name": "python",
   "nbconvert_exporter": "python",
   "pygments_lexer": "ipython3",
   "version": "3.6.7"
  }
 },
 "nbformat": 4,
 "nbformat_minor": 2
}
